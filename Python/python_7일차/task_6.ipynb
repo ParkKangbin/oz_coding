{
 "cells": [
  {
   "cell_type": "markdown",
   "metadata": {},
   "source": [
    "requests 모듈을 사용하여, 웹 페이지의 HTML을 가져오는 간단한 웹 스크레이퍼를 작성하세요.\n",
    "\n",
    "'https://kream.co.kr/'에서<br> \n",
    "데이터를 가져와서 상태 코드와 HTML의 첫 100자를 출력하세요.<br>\n",
    "(실습 전 requests 모듈을 설치해야 함)"
   ]
  },
  {
   "cell_type": "markdown",
   "metadata": {},
   "source": [
    "import requests \n",
    "\n",
    "def fetch_webpage(url):\n",
    "    try:\n",
    "        response = requests.get(url)  \n",
    "        \n",
    "        print(\"상태 코드:\", response.status_code)\n",
    "        \n",
    "        print(\"HTML의 첫 100자:\\n\", response.text[:100])\n",
    "    except requests.exceptions.RequestException as e:  \n",
    "        print(\"웹 페이지를 가져오는 중 오류 발생:\", e)\n",
    "\n",
    "\n",
    "url = 'https://kream.co.kr/'\n",
    "fetch_webpage(url)  # 함수 호출"
   ]
  }
 ],
 "metadata": {
  "language_info": {
   "name": "python"
  }
 },
 "nbformat": 4,
 "nbformat_minor": 2
}
