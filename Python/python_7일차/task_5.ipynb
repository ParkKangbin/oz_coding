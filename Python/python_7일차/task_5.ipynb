{
 "cells": [
  {
   "cell_type": "markdown",
   "metadata": {},
   "source": [
    "datetime 모듈을 사용하여 현재 날짜와 시간을 출력하는 프로그램을 작성하세요. \n",
    "\n",
    "또한, 사용자로부터 태어난 년도를 입력받아 현재 나이를 계산하여 출력하세요."
   ]
  },
  {
   "cell_type": "code",
   "execution_count": 2,
   "metadata": {},
   "outputs": [
    {
     "name": "stdout",
     "output_type": "stream",
     "text": [
      "현재 날짜와 시간: 2025-04-24 23:46:34.073063\n",
      "현재 나이: 1025세\n"
     ]
    }
   ],
   "source": [
    "import datetime  \n",
    "\n",
    "def main():\n",
    "    \n",
    "    now = datetime.datetime.now()  \n",
    "    print(\"현재 날짜와 시간:\", now)  \n",
    "    \n",
    "    birth_year = input( )\n",
    "    \n",
    "    try:\n",
    "        birth_year = int(birth_year) \n",
    "        current_year = now.year \n",
    "        age = current_year - birth_year  \n",
    "        print(f\"현재 나이: {age}세\") \n",
    "    except ValueError:\n",
    "        print(\"잘못된 입력입니다. 숫자를 입력해주세요.\")  \n",
    "\n",
    "\n",
    "main()"
   ]
  }
 ],
 "metadata": {
  "kernelspec": {
   "display_name": "Python 3",
   "language": "python",
   "name": "python3"
  },
  "language_info": {
   "codemirror_mode": {
    "name": "ipython",
    "version": 3
   },
   "file_extension": ".py",
   "mimetype": "text/x-python",
   "name": "python",
   "nbconvert_exporter": "python",
   "pygments_lexer": "ipython3",
   "version": "3.13.3"
  }
 },
 "nbformat": 4,
 "nbformat_minor": 2
}
