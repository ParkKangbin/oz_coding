{
 "cells": [
  {
   "cell_type": "markdown",
   "metadata": {},
   "source": [
    "여러분이 자주 사용하는 수학적 연산<br>\n",
    "(예: 삼각형 넓이, 원의 넓이, 직육면체의 넓이)을 수행하는 함수들을 포함하는 mymath.py라는 이름의 모듈을 만드세요. \n",
    "\n",
    "이 모듈을 사용하여 작성된 함수들을 실제로 임포트하고 사용하는 간단한 프로그램을 작성하세요."
   ]
  },
  {
   "cell_type": "markdown",
   "metadata": {},
   "source": [
    "\n",
    "from mymath import triangle_area, circle_area, rectangular_prism_volume\n",
    "\n",
    "base = 10\n",
    "height = 5\n",
    "print(f\"삼각형의 넓이: {triangle_area(base, height)}\")\n",
    "\n",
    "radius = 7\n",
    "print(f\"원의 넓이: {circle_area(radius)}\")\n",
    "\n",
    "length = 4\n",
    "width = 3\n",
    "height = 5\n",
    "print(f\"직육면체의 부피: {rectangular_prism_volume(length, width, height)}\")"
   ]
  }
 ],
 "metadata": {
  "language_info": {
   "name": "python"
  }
 },
 "nbformat": 4,
 "nbformat_minor": 2
}
