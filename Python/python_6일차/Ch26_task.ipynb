{
 "cells": [
  {
   "cell_type": "markdown",
   "metadata": {},
   "source": [
    "0부터 시작하여 n까지의 숫자 중에서 홀수만 생성하는 제너레이터 odd_numbers를 작성하세요."
   ]
  },
  {
   "cell_type": "markdown",
   "metadata": {},
   "source": [
    "def odd_numbers(n: int):\n",
    "    for i in range(n + 1):\n",
    "        if i % 2 != 0:  \n",
    "            yield i  \n",
    "\n",
    "\n",
    "n = 10\n",
    "for num in odd_numbers(n):\n",
    "    print(num)  # 출력: 1, 3, 5, 7, 9"
   ]
  }
 ],
 "metadata": {
  "language_info": {
   "name": "python"
  }
 },
 "nbformat": 4,
 "nbformat_minor": 2
}
