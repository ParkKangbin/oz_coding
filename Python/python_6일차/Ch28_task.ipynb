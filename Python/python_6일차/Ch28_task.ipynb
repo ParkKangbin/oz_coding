{
 "cells": [
  {
   "cell_type": "markdown",
   "metadata": {},
   "source": [
    "사용자로부터 3개의 숫자를 입력받아, 이를 튜플로 만든 후 최소값과 최대값을 출력하는 함수 min_max를 작성하세요."
   ]
  },
  {
   "cell_type": "code",
   "execution_count": 1,
   "metadata": {},
   "outputs": [
    {
     "name": "stdout",
     "output_type": "stream",
     "text": [
      "입력된 숫자: (50.0, 100.0, 1000.0)\n",
      "최소값: 50.0\n",
      "최대값: 1000.0\n"
     ]
    }
   ],
   "source": [
    "def min_max():\n",
    "    numbers = tuple(float(input(f\"숫자 {i + 1}를 입력하세요: \")) for i in range(3))\n",
    "    \n",
    "    min_value = min(numbers)\n",
    "    max_value = max(numbers)\n",
    "    \n",
    "    print(f\"입력된 숫자: {numbers}\")\n",
    "    print(f\"최소값: {min_value}\")\n",
    "    print(f\"최대값: {max_value}\")\n",
    "\n",
    "\n",
    "min_max()"
   ]
  },
  {
   "cell_type": "markdown",
   "metadata": {},
   "source": []
  }
 ],
 "metadata": {
  "kernelspec": {
   "display_name": "Python 3",
   "language": "python",
   "name": "python3"
  },
  "language_info": {
   "codemirror_mode": {
    "name": "ipython",
    "version": 3
   },
   "file_extension": ".py",
   "mimetype": "text/x-python",
   "name": "python",
   "nbconvert_exporter": "python",
   "pygments_lexer": "ipython3",
   "version": "3.13.3"
  }
 },
 "nbformat": 4,
 "nbformat_minor": 2
}
