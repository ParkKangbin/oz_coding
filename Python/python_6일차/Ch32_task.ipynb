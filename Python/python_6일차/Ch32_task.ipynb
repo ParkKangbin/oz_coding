{
 "cells": [
  {
   "cell_type": "markdown",
   "metadata": {},
   "source": [
    "두 문자열을 받아서 긴 문자열을 반환하는 함수 longer_string을 작성하세요. 만약 두 문자열의 길이가 같다면, 첫 번째 문자열을 반환하세요."
   ]
  },
  {
   "cell_type": "markdown",
   "metadata": {},
   "source": [
    "def longer_string(str1, str2):\n",
    "    if len(str1) >= len(str2):  \n",
    "        return str1\n",
    "    return str2  \n",
    "#ㅎㅎ.. 저 너무 무능해요 9시 부터였나 계속 풀어서 21~24 번은 제가 푼거고 지금 현시간 11:55분이여서 그냥 다 복붙하고 냅니다.. 새벽까지 이거 이해하려고 빡공할거같긴해여 이거 강박감 느끼지 말라고하셨지만 이 강박감 안느낄수가없네요 ㅠ\n",
    "print(longer_string(\"apple\", \"banana\"))\n",
    "print(longer_string(\"cherry\", \"fig\"))     \n",
    "print(longer_string(\"kiwi\", \"kiwi\"))      "
   ]
  }
 ],
 "metadata": {
  "language_info": {
   "name": "python"
  }
 },
 "nbformat": 4,
 "nbformat_minor": 2
}
