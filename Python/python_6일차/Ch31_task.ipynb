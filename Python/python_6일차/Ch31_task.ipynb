{
 "cells": [
  {
   "cell_type": "markdown",
   "metadata": {},
   "source": [
    "문자열 리스트를 받아, 각 문자열의 길이를 출력하는 함수 print_lengths를 작성하세요."
   ]
  },
  {
   "cell_type": "markdown",
   "metadata": {},
   "source": [
    "def print_lengths(strings):\n",
    "    for string in strings:  \n",
    "        print(f\"'{string}'의 길이: {len(string)}\")  \n",
    "\n",
    "example_list = [\"apple\", \"banana\", \"cherry\", \"date\"]\n",
    "print_lengths(example_list)"
   ]
  }
 ],
 "metadata": {
  "language_info": {
   "name": "python"
  }
 },
 "nbformat": 4,
 "nbformat_minor": 2
}
