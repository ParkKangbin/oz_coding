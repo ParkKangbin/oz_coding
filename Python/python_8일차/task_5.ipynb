{
 "cells": [
  {
   "cell_type": "markdown",
   "metadata": {},
   "source": [
    "[문제]\n",
    "\n",
    "'Account' 클래스를 작성하세요. \n",
    "\n",
    "이 클래스는 소유자(owner)와 잔액(balance)을 속성으로 가지며, 잔액은 프라이빗 변수로 선언합니다. \n",
    "\n",
    "'deposit'와 'withdraw' 두 개의 메소드를 통해 잔액을 조작할 수 있도록 하세요. \n",
    "\n",
    "이 때, 잔액은 음수가 될 수 없도록 체크해야 합니다. 'Account' 객체를 생성하고,<br>\n",
    "입금 및 출금 작업을 시뮬레이션한 후, 최종 잔액을 출력하세요."
   ]
  },
  {
   "cell_type": "code",
   "execution_count": 1,
   "metadata": {},
   "outputs": [
    {
     "name": "stdout",
     "output_type": "stream",
     "text": [
      "500원이 입금되었습니다. 현재 잔액: 1500 원\n",
      "300원이 출금되었습니다. 현재 잔액: 1200 원\n"
     ]
    }
   ],
   "source": [
    "class Account:\n",
    "    def __init__(self, owner, balance=0):\n",
    "        self.owner = owner               \n",
    "        self.__balance = balance         \n",
    "\n",
    "    def deposit(self, amount):\n",
    "        if amount > 0:                 \n",
    "            self.__balance += amount\n",
    "            print(f\"{amount}원이 입금되었습니다. 현재 잔액: {self.__balance} 원\")\n",
    "\n",
    "\n",
    "    def withdraw(self, amount):\n",
    "        if amount > 0:                 \n",
    "            if self.__balance >= amount:  \n",
    "                self.__balance -= amount\n",
    "                print(f\"{amount}원이 출금되었습니다. 현재 잔액: {self.__balance} 원\")\n",
    "\n",
    "\n",
    "    def get_balance(self):\n",
    "        return self.__balance            \n",
    "\n",
    "\n",
    "\n",
    "account = Account(owner=\"홍길동\", balance=1000)\n",
    "\n",
    "\n",
    "account.deposit(500)\n",
    "\n",
    "\n",
    "account.withdraw(300)\n",
    "\n"
   ]
  }
 ],
 "metadata": {
  "kernelspec": {
   "display_name": "Python 3",
   "language": "python",
   "name": "python3"
  },
  "language_info": {
   "codemirror_mode": {
    "name": "ipython",
    "version": 3
   },
   "file_extension": ".py",
   "mimetype": "text/x-python",
   "name": "python",
   "nbconvert_exporter": "python",
   "pygments_lexer": "ipython3",
   "version": "3.13.3"
  }
 },
 "nbformat": 4,
 "nbformat_minor": 2
}
